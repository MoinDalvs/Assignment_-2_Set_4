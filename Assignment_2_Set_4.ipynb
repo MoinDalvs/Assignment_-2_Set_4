{
 "cells": [
  {
   "cell_type": "code",
   "execution_count": 3,
   "id": "d6008efb",
   "metadata": {},
   "outputs": [],
   "source": [
    "import pandas as pd\n",
    "import numpy as np\n",
    "import matplotlib.pyplot as plt\n",
    "import scipy.stats as stats\n",
    "import seaborn as sns\n",
    "import statsmodels.api as smf\n",
    "import warnings\n",
    "warnings.filterwarnings('ignore')"
   ]
  },
  {
   "cell_type": "markdown",
   "id": "56540b7a",
   "metadata": {},
   "source": [
    "# Set 4\n",
    "\n",
    "\n",
    "\n",
    "\n",
    "\n",
    "\n",
    "\n",
    "\n",
    "\n"
   ]
  },
  {
   "cell_type": "markdown",
   "id": "75d71cc0",
   "metadata": {},
   "source": [
    "\n",
    "### Question 3"
   ]
  },
  {
   "cell_type": "markdown",
   "id": "f7f69f65",
   "metadata": {},
   "source": [
    "3.\tAuditors at a small community bank randomly sample 100 withdrawal transactions made during the week at an ATM machine located near the bank’s main branch. Over the past 2 years, the average withdrawal amount has been 50 USD with a standard deviation of 40 USD. Since audit investigations are typically expensive, the auditors decide to not initiate further investigations if the mean transaction amount of the sample is between 45 USD and 55 USD. What is the probability that in any given week, there will be an investigation?\n",
    "\n"
   ]
  },
  {
   "cell_type": "code",
   "execution_count": 4,
   "id": "ed8d2fbf",
   "metadata": {},
   "outputs": [
    {
     "name": "stdout",
     "output_type": "stream",
     "text": [
      "The probability that in any given week, there will be an investigation is 21.4 %\n"
     ]
    }
   ],
   "source": [
    "mean = 50\n",
    "std = 40\n",
    "n = 100\n",
    "d_f = 100 - 1 #degree of freedom\n",
    "#the probability that there will be an investigation,\n",
    "#if the mean transactions amount increases more than 55 USD or less than 45 USD\n",
    "# no investigation if the mean transactions amount remains between 45 to 55 USD\n",
    "\n",
    "# we will go for t-distribution as population standard deviation is unknown\n",
    "t_forty_five = (45-50)/(40/np.sqrt(100))\n",
    "\n",
    "t_fifty_five = (55-50)/(40/np.sqrt(100))\n",
    "\n",
    "forty_five = stats.t.cdf(t_forty_five, df = d_f)\n",
    "\n",
    "fifty_five = stats.t.cdf(t_fifty_five, d_f)\n",
    "\n",
    "prob = fifty_five - forty_five\n",
    "\n",
    "np.round(stats.t.interval(alpha = prob, df = d_f, loc = mean, scale = std/np.sqrt(n)),)\n",
    "\n",
    "print('The probability that in any given week, there will be an investigation is',np.round((1-prob)*100,1),'%')"
   ]
  },
  {
   "cell_type": "markdown",
   "id": "8fdcee56",
   "metadata": {},
   "source": [
    "### Question 4 "
   ]
  },
  {
   "cell_type": "markdown",
   "id": "e2b39983",
   "metadata": {},
   "source": [
    "4.\tThe auditors from the above example would like to maintain the probability of investigation to 5%. Which of the following represents the minimum number transactions that they should sample if they do not want to change the thresholds of 45 and 55? Assume that the sample statistics remain unchanged.\n"
   ]
  },
  {
   "cell_type": "code",
   "execution_count": 6,
   "id": "505440b7",
   "metadata": {},
   "outputs": [
    {
     "name": "stdout",
     "output_type": "stream",
     "text": [
      "The Auditors would like to maintain the probability of investigation to 5%, they should sample 248.0 transactions if they do not want to change the thresholds of 45 to 55\n",
      "248.3776 247.3776\n"
     ]
    },
    {
     "data": {
      "text/plain": [
       "array([45., 55.])"
      ]
     },
     "execution_count": 6,
     "metadata": {},
     "output_type": "execute_result"
    }
   ],
   "source": [
    "x_bar = 45\n",
    "s_std = 40\n",
    "mew = 50\n",
    "\n",
    "t = np.round(stats.t.ppf(0.025, df = 249),2)\n",
    "t\n",
    "\n",
    "# t_value = (x_bar - mew)/(sample_std/n**0.5)\n",
    "# t = 45-50 or z = 55-50 z = +/- 5\n",
    "\n",
    "# t = 5/(40/n**0.5)\n",
    "# n = (sample_standard_deviation*tscore)/(sample_mean=population_mean)\n",
    "n = ((s_std*abs(t)) / (5))**2\n",
    "\n",
    "print('The Auditors would like to maintain the probability of investigation to 5%, they should sample',np.round(n,),'transactions if they do not want to change the thresholds of 45 to 55')\n",
    "\n",
    "df= n-1\n",
    "print(n, df)\n",
    "\n",
    "np.round(stats.t.interval(alpha = 0.95, df = df, loc = mew, scale = s_std/np.sqrt(n)),)"
   ]
  },
  {
   "cell_type": "code",
   "execution_count": null,
   "id": "640ada0d",
   "metadata": {},
   "outputs": [],
   "source": []
  },
  {
   "cell_type": "code",
   "execution_count": null,
   "id": "fdf4471a",
   "metadata": {},
   "outputs": [],
   "source": []
  },
  {
   "cell_type": "code",
   "execution_count": null,
   "id": "d366afbd",
   "metadata": {},
   "outputs": [],
   "source": []
  },
  {
   "cell_type": "code",
   "execution_count": null,
   "id": "13d669d6",
   "metadata": {},
   "outputs": [],
   "source": []
  },
  {
   "cell_type": "code",
   "execution_count": null,
   "id": "0ef53b20",
   "metadata": {},
   "outputs": [],
   "source": []
  }
 ],
 "metadata": {
  "kernelspec": {
   "display_name": "Python 3 (ipykernel)",
   "language": "python",
   "name": "python3"
  },
  "language_info": {
   "codemirror_mode": {
    "name": "ipython",
    "version": 3
   },
   "file_extension": ".py",
   "mimetype": "text/x-python",
   "name": "python",
   "nbconvert_exporter": "python",
   "pygments_lexer": "ipython3",
   "version": "3.9.7"
  }
 },
 "nbformat": 4,
 "nbformat_minor": 5
}
